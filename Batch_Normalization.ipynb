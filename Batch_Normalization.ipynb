{
  "nbformat": 4,
  "nbformat_minor": 0,
  "metadata": {
    "colab": {
      "provenance": [],
      "gpuType": "T4"
    },
    "kernelspec": {
      "name": "python3",
      "display_name": "Python 3"
    },
    "language_info": {
      "name": "python"
    },
    "accelerator": "GPU"
  },
  "cells": [
    {
      "cell_type": "code",
      "execution_count": 1,
      "metadata": {
        "colab": {
          "base_uri": "https://localhost:8080/"
        },
        "id": "hIoJdiMpVVKw",
        "outputId": "68cd8ac2-9b3d-4f2e-8e7f-eecfea5b75ba"
      },
      "outputs": [
        {
          "output_type": "stream",
          "name": "stdout",
          "text": [
            "Sun Sep 24 13:46:02 2023       \n",
            "+-----------------------------------------------------------------------------+\n",
            "| NVIDIA-SMI 525.105.17   Driver Version: 525.105.17   CUDA Version: 12.0     |\n",
            "|-------------------------------+----------------------+----------------------+\n",
            "| GPU  Name        Persistence-M| Bus-Id        Disp.A | Volatile Uncorr. ECC |\n",
            "| Fan  Temp  Perf  Pwr:Usage/Cap|         Memory-Usage | GPU-Util  Compute M. |\n",
            "|                               |                      |               MIG M. |\n",
            "|===============================+======================+======================|\n",
            "|   0  Tesla T4            Off  | 00000000:00:04.0 Off |                    0 |\n",
            "| N/A   45C    P8    12W /  70W |      0MiB / 15360MiB |      0%      Default |\n",
            "|                               |                      |                  N/A |\n",
            "+-------------------------------+----------------------+----------------------+\n",
            "                                                                               \n",
            "+-----------------------------------------------------------------------------+\n",
            "| Processes:                                                                  |\n",
            "|  GPU   GI   CI        PID   Type   Process name                  GPU Memory |\n",
            "|        ID   ID                                                   Usage      |\n",
            "|=============================================================================|\n",
            "|  No running processes found                                                 |\n",
            "+-----------------------------------------------------------------------------+\n"
          ]
        }
      ],
      "source": [
        "!nvidia-smi"
      ]
    },
    {
      "cell_type": "markdown",
      "source": [
        "## Before applying Batch Normalization"
      ],
      "metadata": {
        "id": "3LexF6kncS24"
      }
    },
    {
      "cell_type": "code",
      "source": [
        "import tensorflow as tf\n",
        "import numpy as np\n",
        "import matplotlib.pyplot as plt\n",
        "import time"
      ],
      "metadata": {
        "id": "gAK8ddsecJX0"
      },
      "execution_count": 2,
      "outputs": []
    },
    {
      "cell_type": "code",
      "source": [
        "mnist = tf.keras.datasets.mnist\n",
        "(X_train_full, y_train_full), (X_test,y_test) = mnist.load_data()"
      ],
      "metadata": {
        "colab": {
          "base_uri": "https://localhost:8080/"
        },
        "id": "bTSE3fzicg5P",
        "outputId": "11a05a3f-754d-4e04-d808-d99488e06ccf"
      },
      "execution_count": 3,
      "outputs": [
        {
          "output_type": "stream",
          "name": "stdout",
          "text": [
            "Downloading data from https://storage.googleapis.com/tensorflow/tf-keras-datasets/mnist.npz\n",
            "11490434/11490434 [==============================] - 2s 0us/step\n"
          ]
        }
      ]
    },
    {
      "cell_type": "code",
      "source": [
        "# Applying scaling (minmax)\n",
        "\n",
        "X_valid, X_train = X_train_full[:5000] / 255. , X_train_full[5000:] / 255.\n",
        "y_valid, y_train = y_train_full[:5000]  , y_train_full[5000:]\n",
        "\n",
        "# Scale test data\n",
        "X_test = X_test / 255."
      ],
      "metadata": {
        "id": "1hjQsNO-dDq3"
      },
      "execution_count": 4,
      "outputs": []
    },
    {
      "cell_type": "code",
      "source": [
        "LAYERS = [\n",
        "    tf.keras.layers.Flatten(input_shape=[28,28]),\n",
        "    tf.keras.layers.Dense(300,  kernel_initializer=\"he_normal\"),\n",
        "    tf.keras.layers.LeakyReLU(),\n",
        "    tf.keras.layers.Dense(100,  kernel_initializer=\"he_normal\"),\n",
        "    tf.keras.layers.LeakyReLU(),\n",
        "    tf.keras.layers.Dense(10, activation=\"softmax\")\n",
        "\n",
        "]\n",
        "\n",
        "model = tf.keras.models.Sequential(LAYERS)"
      ],
      "metadata": {
        "id": "nf6jJOXMdMZa"
      },
      "execution_count": 15,
      "outputs": []
    },
    {
      "cell_type": "code",
      "source": [
        "model.compile(loss = 'sparse_categorical_crossentropy', optimizer = tf.keras.optimizers.SGD(learning_rate = 1e-3),metrics = ['accuracy'])"
      ],
      "metadata": {
        "id": "o_fxpK1deN1i"
      },
      "execution_count": 24,
      "outputs": []
    },
    {
      "cell_type": "code",
      "source": [
        "model.summary()"
      ],
      "metadata": {
        "colab": {
          "base_uri": "https://localhost:8080/"
        },
        "id": "JDOWih4xfiST",
        "outputId": "2e8d0837-7759-47f7-a5f9-c4a1ae9bfe98"
      },
      "execution_count": 25,
      "outputs": [
        {
          "output_type": "stream",
          "name": "stdout",
          "text": [
            "Model: \"sequential_3\"\n",
            "_________________________________________________________________\n",
            " Layer (type)                Output Shape              Param #   \n",
            "=================================================================\n",
            " flatten_7 (Flatten)         (None, 784)               0         \n",
            "                                                                 \n",
            " dense_13 (Dense)            (None, 300)               235500    \n",
            "                                                                 \n",
            " leaky_re_lu_6 (LeakyReLU)   (None, 300)               0         \n",
            "                                                                 \n",
            " dense_14 (Dense)            (None, 100)               30100     \n",
            "                                                                 \n",
            " leaky_re_lu_7 (LeakyReLU)   (None, 100)               0         \n",
            "                                                                 \n",
            " dense_15 (Dense)            (None, 10)                1010      \n",
            "                                                                 \n",
            "=================================================================\n",
            "Total params: 266610 (1.02 MB)\n",
            "Trainable params: 266610 (1.02 MB)\n",
            "Non-trainable params: 0 (0.00 Byte)\n",
            "_________________________________________________________________\n"
          ]
        }
      ]
    },
    {
      "cell_type": "code",
      "source": [
        "start = time.time()\n",
        "\n",
        "history = model.fit(X_train, y_train, epochs=10,\n",
        "                    validation_data = (X_valid, y_valid))\n",
        "\n",
        "end = time.time()\n",
        "\n",
        "\n",
        "\n",
        "## total time\n",
        "\n",
        "print(f'Runtime of the program is {end -start}')"
      ],
      "metadata": {
        "colab": {
          "base_uri": "https://localhost:8080/"
        },
        "id": "jtU1YJ5Wf63C",
        "outputId": "b48021f5-db41-4014-f5d7-237424e89204"
      },
      "execution_count": 26,
      "outputs": [
        {
          "output_type": "stream",
          "name": "stdout",
          "text": [
            "Epoch 1/10\n",
            "1719/1719 [==============================] - 13s 5ms/step - loss: 1.4591 - accuracy: 0.6202 - val_loss: 0.9048 - val_accuracy: 0.8012\n",
            "Epoch 2/10\n",
            "1719/1719 [==============================] - 7s 4ms/step - loss: 0.7251 - accuracy: 0.8267 - val_loss: 0.5818 - val_accuracy: 0.8572\n",
            "Epoch 3/10\n",
            "1719/1719 [==============================] - 8s 4ms/step - loss: 0.5376 - accuracy: 0.8609 - val_loss: 0.4697 - val_accuracy: 0.8788\n",
            "Epoch 4/10\n",
            "1719/1719 [==============================] - 7s 4ms/step - loss: 0.4591 - accuracy: 0.8775 - val_loss: 0.4137 - val_accuracy: 0.8896\n",
            "Epoch 5/10\n",
            "1719/1719 [==============================] - 8s 4ms/step - loss: 0.4151 - accuracy: 0.8861 - val_loss: 0.3787 - val_accuracy: 0.8952\n",
            "Epoch 6/10\n",
            "1719/1719 [==============================] - 7s 4ms/step - loss: 0.3864 - accuracy: 0.8921 - val_loss: 0.3554 - val_accuracy: 0.9036\n",
            "Epoch 7/10\n",
            "1719/1719 [==============================] - 8s 4ms/step - loss: 0.3660 - accuracy: 0.8976 - val_loss: 0.3371 - val_accuracy: 0.9074\n",
            "Epoch 8/10\n",
            "1719/1719 [==============================] - 8s 4ms/step - loss: 0.3502 - accuracy: 0.9019 - val_loss: 0.3235 - val_accuracy: 0.9124\n",
            "Epoch 9/10\n",
            "1719/1719 [==============================] - 7s 4ms/step - loss: 0.3377 - accuracy: 0.9055 - val_loss: 0.3129 - val_accuracy: 0.9144\n",
            "Epoch 10/10\n",
            "1719/1719 [==============================] - 8s 5ms/step - loss: 0.3271 - accuracy: 0.9082 - val_loss: 0.3035 - val_accuracy: 0.9150\n",
            "Runtime of the program is 82.92568969726562\n"
          ]
        }
      ]
    },
    {
      "cell_type": "code",
      "source": [
        "## After Batch Normilization"
      ],
      "metadata": {
        "id": "PiClnY_YgoiZ"
      },
      "execution_count": 27,
      "outputs": []
    },
    {
      "cell_type": "code",
      "source": [
        "del model ## for deleting prev model"
      ],
      "metadata": {
        "colab": {
          "base_uri": "https://localhost:8080/",
          "height": 214
        },
        "id": "aoFQyRtoiFlD",
        "outputId": "0541782e-8670-4ac0-8061-e9a829a07485"
      },
      "execution_count": 29,
      "outputs": [
        {
          "output_type": "error",
          "ename": "NameError",
          "evalue": "ignored",
          "traceback": [
            "\u001b[0;31m---------------------------------------------------------------------------\u001b[0m",
            "\u001b[0;31mNameError\u001b[0m                                 Traceback (most recent call last)",
            "\u001b[0;32m<ipython-input-29-5958d2b03eef>\u001b[0m in \u001b[0;36m<cell line: 1>\u001b[0;34m()\u001b[0m\n\u001b[0;32m----> 1\u001b[0;31m \u001b[0;32mdel\u001b[0m \u001b[0mmodel\u001b[0m \u001b[0;31m## for deleting prev model\u001b[0m\u001b[0;34m\u001b[0m\u001b[0;34m\u001b[0m\u001b[0m\n\u001b[0m",
            "\u001b[0;31mNameError\u001b[0m: name 'model' is not defined"
          ]
        }
      ]
    },
    {
      "cell_type": "code",
      "source": [
        "LAYERS = [\n",
        "    tf.keras.layers.Flatten(input_shape=[28,28]),\n",
        "    tf.keras.layers.BatchNormalization(),\n",
        "    tf.keras.layers.Dense(300,  kernel_initializer=\"he_normal\"),\n",
        "    tf.keras.layers.LeakyReLU(),\n",
        "    tf.keras.layers.BatchNormalization(),\n",
        "    tf.keras.layers.Dense(100,  kernel_initializer=\"he_normal\"),\n",
        "    tf.keras.layers.LeakyReLU(),\n",
        "    tf.keras.layers.BatchNormalization(),\n",
        "    tf.keras.layers.Dense(10, activation=\"softmax\")\n",
        "\n",
        "]\n",
        "\n",
        "model = tf.keras.models.Sequential(LAYERS)"
      ],
      "metadata": {
        "id": "iyT5qxIZiOGA"
      },
      "execution_count": 31,
      "outputs": []
    },
    {
      "cell_type": "code",
      "source": [
        "model.summary()"
      ],
      "metadata": {
        "colab": {
          "base_uri": "https://localhost:8080/"
        },
        "id": "7ycUYsz4in_r",
        "outputId": "58e601bc-3c07-4b9f-a50f-67ed0e15583d"
      },
      "execution_count": 32,
      "outputs": [
        {
          "output_type": "stream",
          "name": "stdout",
          "text": [
            "Model: \"sequential_4\"\n",
            "_________________________________________________________________\n",
            " Layer (type)                Output Shape              Param #   \n",
            "=================================================================\n",
            " flatten_9 (Flatten)         (None, 784)               0         \n",
            "                                                                 \n",
            " batch_normalization (Batch  (None, 784)               3136      \n",
            " Normalization)                                                  \n",
            "                                                                 \n",
            " dense_16 (Dense)            (None, 300)               235500    \n",
            "                                                                 \n",
            " leaky_re_lu_8 (LeakyReLU)   (None, 300)               0         \n",
            "                                                                 \n",
            " batch_normalization_1 (Bat  (None, 300)               1200      \n",
            " chNormalization)                                                \n",
            "                                                                 \n",
            " dense_17 (Dense)            (None, 100)               30100     \n",
            "                                                                 \n",
            " leaky_re_lu_9 (LeakyReLU)   (None, 100)               0         \n",
            "                                                                 \n",
            " batch_normalization_2 (Bat  (None, 100)               400       \n",
            " chNormalization)                                                \n",
            "                                                                 \n",
            " dense_18 (Dense)            (None, 10)                1010      \n",
            "                                                                 \n",
            "=================================================================\n",
            "Total params: 271346 (1.04 MB)\n",
            "Trainable params: 268978 (1.03 MB)\n",
            "Non-trainable params: 2368 (9.25 KB)\n",
            "_________________________________________________________________\n"
          ]
        }
      ]
    },
    {
      "cell_type": "code",
      "source": [
        "model.compile(loss = 'sparse_categorical_crossentropy', optimizer = tf.keras.optimizers.SGD(learning_rate = 1e-3),metrics = ['accuracy'])"
      ],
      "metadata": {
        "id": "t9kgbgDVizmk"
      },
      "execution_count": 33,
      "outputs": []
    },
    {
      "cell_type": "code",
      "source": [
        "start = time.time()\n",
        "\n",
        "history = model.fit(X_train, y_train, epochs=10,\n",
        "                    validation_data = (X_valid, y_valid))\n",
        "\n",
        "end = time.time()\n",
        "\n",
        "\n",
        "\n",
        "## total time\n",
        "\n",
        "print(f'Runtime of the program is {end -start}')"
      ],
      "metadata": {
        "colab": {
          "base_uri": "https://localhost:8080/"
        },
        "id": "R3sv15ijjA-2",
        "outputId": "d643ef0e-b295-46ad-df61-80ebab5e9d9e"
      },
      "execution_count": null,
      "outputs": [
        {
          "output_type": "stream",
          "name": "stdout",
          "text": [
            "Epoch 1/10\n",
            "1719/1719 [==============================] - 13s 7ms/step - loss: 0.8515 - accuracy: 0.7383 - val_loss: 0.4889 - val_accuracy: 0.8622\n",
            "Epoch 2/10\n",
            "1719/1719 [==============================] - 11s 7ms/step - loss: 0.4700 - accuracy: 0.8637 - val_loss: 0.3851 - val_accuracy: 0.8930\n",
            "Epoch 3/10\n",
            "1719/1719 [==============================] - 11s 7ms/step - loss: 0.4043 - accuracy: 0.8823 - val_loss: 0.3396 - val_accuracy: 0.9026\n",
            "Epoch 4/10\n",
            "1719/1719 [==============================] - 11s 6ms/step - loss: 0.3674 - accuracy: 0.8933 - val_loss: 0.3105 - val_accuracy: 0.9124\n",
            "Epoch 5/10\n",
            "1719/1719 [==============================] - 11s 6ms/step - loss: 0.3423 - accuracy: 0.9007 - val_loss: 0.2918 - val_accuracy: 0.9184\n",
            "Epoch 6/10\n",
            "1719/1719 [==============================] - 14s 8ms/step - loss: 0.3216 - accuracy: 0.9059 - val_loss: 0.2754 - val_accuracy: 0.9202\n",
            "Epoch 7/10\n",
            "1719/1719 [==============================] - 12s 7ms/step - loss: 0.3057 - accuracy: 0.9115 - val_loss: 0.2647 - val_accuracy: 0.9226\n",
            "Epoch 8/10\n",
            " 613/1719 [=========>....................] - ETA: 8s - loss: 0.2853 - accuracy: 0.9158"
          ]
        }
      ]
    },
    {
      "cell_type": "code",
      "source": [],
      "metadata": {
        "id": "ciz9ml6hjDSL"
      },
      "execution_count": null,
      "outputs": []
    }
  ]
}