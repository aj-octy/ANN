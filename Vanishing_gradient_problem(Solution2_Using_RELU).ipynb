{
  "nbformat": 4,
  "nbformat_minor": 0,
  "metadata": {
    "colab": {
      "provenance": [],
      "gpuType": "T4"
    },
    "kernelspec": {
      "name": "python3",
      "display_name": "Python 3"
    },
    "language_info": {
      "name": "python"
    },
    "accelerator": "GPU"
  },
  "cells": [
    {
      "cell_type": "code",
      "execution_count": 1,
      "metadata": {
        "colab": {
          "base_uri": "https://localhost:8080/"
        },
        "id": "TQnrIf6b3jv7",
        "outputId": "08966078-69da-45b1-8aab-931e64d653a7"
      },
      "outputs": [
        {
          "output_type": "stream",
          "name": "stdout",
          "text": [
            "Sun Sep 24 10:36:07 2023       \n",
            "+-----------------------------------------------------------------------------+\n",
            "| NVIDIA-SMI 525.105.17   Driver Version: 525.105.17   CUDA Version: 12.0     |\n",
            "|-------------------------------+----------------------+----------------------+\n",
            "| GPU  Name        Persistence-M| Bus-Id        Disp.A | Volatile Uncorr. ECC |\n",
            "| Fan  Temp  Perf  Pwr:Usage/Cap|         Memory-Usage | GPU-Util  Compute M. |\n",
            "|                               |                      |               MIG M. |\n",
            "|===============================+======================+======================|\n",
            "|   0  Tesla T4            Off  | 00000000:00:04.0 Off |                    0 |\n",
            "| N/A   47C    P8     9W /  70W |      0MiB / 15360MiB |      0%      Default |\n",
            "|                               |                      |                  N/A |\n",
            "+-------------------------------+----------------------+----------------------+\n",
            "                                                                               \n",
            "+-----------------------------------------------------------------------------+\n",
            "| Processes:                                                                  |\n",
            "|  GPU   GI   CI        PID   Type   Process name                  GPU Memory |\n",
            "|        ID   ID                                                   Usage      |\n",
            "|=============================================================================|\n",
            "|  No running processes found                                                 |\n",
            "+-----------------------------------------------------------------------------+\n"
          ]
        }
      ],
      "source": [
        "!nvidia-smi"
      ]
    },
    {
      "cell_type": "markdown",
      "source": [
        "Using Relu\n"
      ],
      "metadata": {
        "id": "pq2sdyrWwuhj"
      }
    },
    {
      "cell_type": "code",
      "source": [
        "import tensorflow as tf\n",
        "import keras\n",
        "from keras.layers import Dense\n",
        "from keras.models import Sequential\n",
        "import matplotlib.pyplot as plt\n",
        "import numpy as np\n",
        "from sklearn.datasets import make_moons\n",
        "from sklearn.model_selection import train_test_split"
      ],
      "metadata": {
        "id": "KYJhZOvt6JZY"
      },
      "execution_count": 3,
      "outputs": []
    },
    {
      "cell_type": "code",
      "source": [
        "X,y = make_moons(n_samples=250, noise = 0.05, random_state=42)"
      ],
      "metadata": {
        "id": "YeGz_0Mk-1cr"
      },
      "execution_count": 4,
      "outputs": []
    },
    {
      "cell_type": "code",
      "source": [
        "X.shape"
      ],
      "metadata": {
        "colab": {
          "base_uri": "https://localhost:8080/"
        },
        "id": "XK84Yz3P_Gao",
        "outputId": "12fcb211-4332-4ed5-c4b8-9e0599cadcf5"
      },
      "execution_count": 5,
      "outputs": [
        {
          "output_type": "execute_result",
          "data": {
            "text/plain": [
              "(250, 2)"
            ]
          },
          "metadata": {},
          "execution_count": 5
        }
      ]
    },
    {
      "cell_type": "code",
      "source": [
        "X"
      ],
      "metadata": {
        "colab": {
          "base_uri": "https://localhost:8080/"
        },
        "id": "u4y0Gcg2_Itv",
        "outputId": "f05e7c31-87ae-4bbc-a50e-d3fb4b60ef8f"
      },
      "execution_count": 6,
      "outputs": [
        {
          "output_type": "execute_result",
          "data": {
            "text/plain": [
              "array([[ 8.41540974e-02,  1.13341197e-01],\n",
              "       [ 1.05091536e+00,  1.54710235e-01],\n",
              "       [-7.16555269e-01,  6.75607887e-01],\n",
              "       [ 6.09316755e-02,  9.26542340e-01],\n",
              "       [-1.00552480e+00,  3.36425155e-01],\n",
              "       [ 7.63045744e-01, -4.82519400e-01],\n",
              "       [ 1.30067681e+00, -4.60456076e-01],\n",
              "       [ 8.93997023e-01, -5.39443631e-01],\n",
              "       [ 1.01492378e+00,  2.49633435e-01],\n",
              "       [-8.88621081e-01,  5.38566586e-01],\n",
              "       [ 1.36613788e+00, -3.56819676e-01],\n",
              "       [ 1.69872955e+00, -2.50238607e-01],\n",
              "       [ 1.93909982e+00,  7.98335031e-02],\n",
              "       [ 1.98164910e+00,  2.73166182e-01],\n",
              "       [-1.92842298e-01,  9.90722796e-01],\n",
              "       [ 1.87318667e+00, -1.28604429e-01],\n",
              "       [ 1.12842503e+00, -4.29068613e-01],\n",
              "       [ 9.60365014e-01,  5.24004362e-01],\n",
              "       [ 6.83418960e-01, -4.32057757e-01],\n",
              "       [ 8.36557987e-01,  5.74232279e-01],\n",
              "       [ 2.04424212e+00,  4.47864563e-01],\n",
              "       [ 7.89541222e-01,  4.20628768e-01],\n",
              "       [-8.99855447e-01,  3.09253977e-01],\n",
              "       [-1.70083737e-01,  1.01364818e+00],\n",
              "       [ 8.64100790e-01, -4.62976070e-01],\n",
              "       [ 4.16929826e-01,  9.18202726e-01],\n",
              "       [ 2.06768552e-01,  9.66869965e-01],\n",
              "       [ 9.98383587e-01,  1.53441053e-01],\n",
              "       [ 7.41612725e-01,  6.91498410e-01],\n",
              "       [-1.00574217e+00,  7.74054546e-02],\n",
              "       [ 1.31683658e+00, -4.78428187e-01],\n",
              "       [ 5.54481432e-01,  7.28612668e-01],\n",
              "       [ 1.35858678e-01,  8.88735937e-02],\n",
              "       [ 1.75654841e+00, -2.42976963e-01],\n",
              "       [ 7.40743386e-01,  5.54338955e-01],\n",
              "       [-9.97524363e-01,  2.64286007e-01],\n",
              "       [ 9.20293241e-01,  5.29340369e-01],\n",
              "       [ 1.19270090e+00, -5.58707061e-01],\n",
              "       [ 8.56420100e-01, -5.56110065e-01],\n",
              "       [ 2.89464236e-01, -2.34008340e-01],\n",
              "       [-9.96733805e-01,  1.17069019e-01],\n",
              "       [-7.55340560e-01,  6.30902041e-01],\n",
              "       [-8.24480429e-01,  3.60565618e-01],\n",
              "       [ 9.03680204e-01, -5.21468166e-01],\n",
              "       [ 1.75437757e+00, -1.02159856e-01],\n",
              "       [ 8.19380922e-01,  4.15657148e-01],\n",
              "       [ 1.11163727e-01,  3.15453600e-02],\n",
              "       [-1.78801952e-01,  1.01024975e+00],\n",
              "       [ 6.33124657e-01, -4.15851002e-01],\n",
              "       [ 6.54456705e-01,  7.83801620e-01],\n",
              "       [ 1.03252524e-02,  2.99269369e-01],\n",
              "       [ 1.90041253e+00, -9.29652950e-02],\n",
              "       [ 1.92478212e+00,  1.95990042e-01],\n",
              "       [-9.98773046e-01,  8.66633440e-02],\n",
              "       [ 2.01607705e-02,  2.32763980e-01],\n",
              "       [-1.06941992e-01,  1.03645475e+00],\n",
              "       [ 1.67299917e+00, -2.35023613e-01],\n",
              "       [ 2.71539502e-01, -5.81445137e-02],\n",
              "       [ 4.97623260e-01, -2.90178812e-01],\n",
              "       [ 1.81516796e+00,  2.61465591e-02],\n",
              "       [ 1.90198850e+00,  6.48805981e-02],\n",
              "       [ 3.27847838e-01, -1.77111950e-01],\n",
              "       [-1.00837743e+00,  7.17300661e-02],\n",
              "       [-5.49966384e-01,  8.55604463e-01],\n",
              "       [ 9.06805597e-05,  5.37796764e-01],\n",
              "       [ 6.11375169e-01, -3.53652874e-01],\n",
              "       [ 2.02325774e+00,  4.06240765e-01],\n",
              "       [-8.70031210e-01,  3.97519601e-01],\n",
              "       [ 6.66505683e-01, -3.38205158e-01],\n",
              "       [ 1.94000221e+00,  1.15502286e-01],\n",
              "       [-2.52781645e-01,  1.01822885e+00],\n",
              "       [ 3.54686494e-01, -1.88981657e-01],\n",
              "       [-1.00756489e+00,  1.82643859e-01],\n",
              "       [-3.50689868e-01,  8.82880254e-01],\n",
              "       [ 1.95965424e+00,  1.79135608e-01],\n",
              "       [-4.23791395e-01,  8.09785398e-01],\n",
              "       [ 8.19759719e-01,  6.21324827e-01],\n",
              "       [-6.15906179e-02,  4.33434719e-01],\n",
              "       [-3.19944988e-01,  9.06668534e-01],\n",
              "       [-5.44796440e-01,  8.11568854e-01],\n",
              "       [ 9.87483245e-01,  1.01044592e-01],\n",
              "       [ 1.53964975e-01,  1.01319832e+00],\n",
              "       [ 1.05858256e+00, -5.93402519e-01],\n",
              "       [ 1.97834556e+00,  8.60038698e-02],\n",
              "       [ 5.64102869e-01, -4.36058965e-01],\n",
              "       [-2.37493320e-02,  1.00856184e+00],\n",
              "       [-5.35625551e-03,  1.47203879e-01],\n",
              "       [-9.42781423e-01,  4.28932329e-02],\n",
              "       [ 1.58076309e+00, -3.57876102e-01],\n",
              "       [ 1.48729531e-01,  1.12406541e-01],\n",
              "       [ 6.29856834e-01,  6.64970026e-01],\n",
              "       [ 9.73741351e-01,  2.93136861e-01],\n",
              "       [ 6.21931794e-01,  8.76251701e-01],\n",
              "       [ 7.16095126e-01,  6.50658455e-01],\n",
              "       [ 4.95397335e-01,  8.34109782e-01],\n",
              "       [ 1.63507414e+00, -1.93640898e-01],\n",
              "       [ 9.39327586e-01,  5.49193155e-01],\n",
              "       [-7.02603152e-01,  7.11243303e-01],\n",
              "       [ 1.57895616e+00, -2.46854147e-01],\n",
              "       [-8.60243926e-01,  4.82453441e-01],\n",
              "       [ 1.96013416e-01,  9.65367181e-01],\n",
              "       [-6.88978962e-01,  6.82259107e-01],\n",
              "       [ 8.63270212e-02,  8.25279133e-02],\n",
              "       [ 1.30867374e+00, -4.12829733e-01],\n",
              "       [-2.80980058e-01,  8.90032626e-01],\n",
              "       [ 3.90315962e-01,  8.44195161e-01],\n",
              "       [-1.01238380e+00,  3.16694022e-01],\n",
              "       [ 1.88767659e-01, -2.25730970e-01],\n",
              "       [-4.23065928e-01,  8.44359095e-01],\n",
              "       [ 2.30863628e-01, -5.38191260e-03],\n",
              "       [ 8.23153642e-01,  6.38907309e-01],\n",
              "       [ 2.02153850e+00,  3.55368581e-01],\n",
              "       [ 4.22720017e-01, -4.05969894e-01],\n",
              "       [ 1.94612164e+00,  3.46309741e-01],\n",
              "       [-8.23563555e-02,  2.57773171e-01],\n",
              "       [ 9.05162639e-01,  2.99546663e-02],\n",
              "       [ 9.90312968e-01,  6.49079351e-02],\n",
              "       [-3.94545588e-01,  9.39513323e-01],\n",
              "       [ 3.70761979e-01,  8.91148754e-01],\n",
              "       [-8.65625258e-01,  6.47559713e-01],\n",
              "       [ 1.96289637e-02,  4.59825674e-01],\n",
              "       [ 1.50193647e-01, -1.03619463e-01],\n",
              "       [ 1.95031761e+00,  4.50109109e-01],\n",
              "       [-7.11828602e-01,  8.38215329e-01],\n",
              "       [-5.88138020e-01,  7.91217871e-01],\n",
              "       [ 6.34356363e-01, -4.92699529e-01],\n",
              "       [ 1.17655385e+00, -4.82003919e-01],\n",
              "       [-8.23041847e-01,  5.32075432e-01],\n",
              "       [ 5.36377240e-01,  8.24758720e-01],\n",
              "       [ 1.91932769e-02,  1.03212374e+00],\n",
              "       [ 4.47136711e-01, -2.98474265e-01],\n",
              "       [ 6.61329477e-04,  1.62173993e-01],\n",
              "       [ 1.03139656e+00,  2.52724712e-01],\n",
              "       [ 2.00901794e+00,  3.72972507e-01],\n",
              "       [ 1.34371500e+00, -4.95306035e-01],\n",
              "       [ 8.32692245e-01,  6.13191507e-01],\n",
              "       [ 2.40499915e-01, -1.83473915e-01],\n",
              "       [ 1.01199217e+00,  1.96744802e-01],\n",
              "       [-9.82739628e-01,  6.03130719e-02],\n",
              "       [ 7.68774066e-01,  7.54845484e-01],\n",
              "       [ 8.14262083e-02,  1.04801875e-01],\n",
              "       [ 7.36970991e-01, -5.06578512e-01],\n",
              "       [ 1.13245960e-02,  1.29749761e-01],\n",
              "       [ 1.66586647e-02,  9.87104892e-01],\n",
              "       [-1.41985580e-01,  2.35934315e-01],\n",
              "       [-2.30085262e-02,  4.68708154e-01],\n",
              "       [ 1.80680888e+00,  7.66701743e-02],\n",
              "       [ 1.51023383e+00, -4.17300059e-01],\n",
              "       [-1.43817366e-01,  1.00579053e+00],\n",
              "       [ 1.13801188e+00, -4.51854564e-01],\n",
              "       [-4.79456251e-02,  1.01073406e+00],\n",
              "       [ 4.81561777e-01,  1.00042718e+00],\n",
              "       [ 4.83595738e-01, -3.71334091e-01],\n",
              "       [ 4.27502468e-01,  9.46709431e-01],\n",
              "       [-1.01284116e+00,  5.20731788e-02],\n",
              "       [ 3.36537239e-01, -1.39992367e-01],\n",
              "       [ 8.25238299e-01,  6.21276364e-01],\n",
              "       [ 1.59430507e+00, -2.91458161e-01],\n",
              "       [ 8.22673634e-01, -4.34573563e-01],\n",
              "       [-4.44217241e-01,  8.17780564e-01],\n",
              "       [ 5.74547421e-01,  7.31845529e-01],\n",
              "       [ 1.64606277e+00, -4.03736997e-01],\n",
              "       [ 4.51539239e-01,  8.88005222e-01],\n",
              "       [-6.96781502e-01,  6.43360506e-01],\n",
              "       [ 1.12578888e+00, -5.08878851e-01],\n",
              "       [ 4.11282995e-01, -2.90022518e-01],\n",
              "       [ 3.94713405e-01,  9.11565376e-01],\n",
              "       [ 1.00491510e-01,  6.69636771e-02],\n",
              "       [ 8.61868415e-01, -4.95825373e-01],\n",
              "       [ 1.08125924e+00,  1.95014954e-01],\n",
              "       [-8.47058335e-01,  4.48639639e-01],\n",
              "       [ 2.07315004e-01,  9.33182299e-01],\n",
              "       [-1.07918504e-02,  2.85020993e-01],\n",
              "       [ 1.94685691e+00, -3.88250939e-02],\n",
              "       [ 1.09012513e+00, -4.86385061e-01],\n",
              "       [ 1.91757921e+00,  8.42727807e-02],\n",
              "       [ 3.63422548e-01,  9.49699645e-01],\n",
              "       [ 4.67168160e-01, -3.59780609e-01],\n",
              "       [-3.51357680e-01,  9.10428529e-01],\n",
              "       [ 6.71383431e-01,  7.19532528e-01],\n",
              "       [ 1.48658799e+00, -3.53806780e-01],\n",
              "       [ 9.25826602e-01,  9.34651868e-02],\n",
              "       [ 6.20327446e-01, -4.43396303e-01],\n",
              "       [-9.24756059e-01,  2.82753449e-01],\n",
              "       [-7.48410140e-01,  7.52348059e-01],\n",
              "       [-5.24784978e-01,  7.56237025e-01],\n",
              "       [ 1.85793068e+00, -1.77488836e-01],\n",
              "       [ 1.99043825e+00, -3.84966266e-02],\n",
              "       [-6.11864010e-01,  8.57363102e-01],\n",
              "       [ 1.05350164e+00,  3.00605340e-01],\n",
              "       [ 8.70095557e-01,  2.66644712e-01],\n",
              "       [ 8.72329779e-02,  1.03910029e+00],\n",
              "       [ 1.65081111e+00, -3.40657824e-01],\n",
              "       [ 3.63605836e-02,  3.38859653e-01],\n",
              "       [ 8.98360843e-01,  3.03611471e-01],\n",
              "       [ 5.32578420e-01, -3.54511798e-01],\n",
              "       [-1.60894304e-01,  9.64351737e-01],\n",
              "       [ 1.77033059e+00, -1.28793935e-01],\n",
              "       [-6.14242259e-02,  4.04786927e-01],\n",
              "       [ 1.39596937e+00, -3.83944461e-01],\n",
              "       [ 1.91838913e+00, -3.73585050e-03],\n",
              "       [ 6.70163023e-02,  1.01297684e+00],\n",
              "       [ 1.90624888e-01,  9.86455339e-01],\n",
              "       [-8.70460181e-01,  4.18048901e-01],\n",
              "       [ 3.43459618e-01,  8.69895649e-01],\n",
              "       [ 1.93067862e+00,  1.42407452e-01],\n",
              "       [ 7.76412421e-01, -3.47049763e-01],\n",
              "       [ 1.53862659e+00, -4.12402904e-01],\n",
              "       [ 1.17014308e+00, -5.28937231e-01],\n",
              "       [ 1.98645256e+00,  4.32043556e-01],\n",
              "       [ 1.50787776e+00, -3.42156486e-01],\n",
              "       [ 1.79295620e+00, -1.58598687e-01],\n",
              "       [ 5.93010896e-01, -4.07264923e-01],\n",
              "       [ 1.30133494e-01,  1.01973391e+00],\n",
              "       [ 3.85447617e-01,  9.69650467e-01],\n",
              "       [-6.34227601e-01,  8.13711246e-01],\n",
              "       [ 8.94441988e-01,  4.42739571e-01],\n",
              "       [ 1.12636377e-01,  1.02239287e+00],\n",
              "       [ 1.47982048e+00, -3.77712802e-01],\n",
              "       [ 4.56676861e-01, -2.94934321e-01],\n",
              "       [ 1.99682455e+00,  3.63866999e-01],\n",
              "       [ 8.83682414e-01, -4.24459839e-01],\n",
              "       [ 1.00812283e+00, -4.45022320e-01],\n",
              "       [ 3.94722661e-02,  2.81852028e-01],\n",
              "       [ 4.77423984e-01,  8.77652359e-01],\n",
              "       [ 3.71769184e-01, -2.68835969e-01],\n",
              "       [ 1.89365819e+00,  1.78324996e-01],\n",
              "       [ 9.99041868e-01,  7.80524751e-02],\n",
              "       [ 2.74631578e-01,  1.04722866e+00],\n",
              "       [ 2.27740448e-01, -3.52295626e-02],\n",
              "       [-9.59341307e-03,  3.52395343e-01],\n",
              "       [ 2.06636314e-01, -2.00588291e-02],\n",
              "       [-8.82085737e-01,  5.20322240e-01],\n",
              "       [-9.18268409e-01,  6.25667483e-01],\n",
              "       [-8.66670027e-01,  1.54616615e-01],\n",
              "       [-4.33154940e-01,  8.15140294e-01],\n",
              "       [ 1.24230304e+00, -4.47929912e-01],\n",
              "       [-2.32841195e-01,  1.05410512e+00],\n",
              "       [ 1.66784697e+00, -1.96635930e-01],\n",
              "       [ 1.49140344e+00, -3.68984892e-01],\n",
              "       [-1.08108588e+00,  4.56799604e-02],\n",
              "       [ 2.03809595e+00,  5.10632788e-01],\n",
              "       [ 9.17739068e-01,  4.38476262e-01],\n",
              "       [ 9.81556463e-01, -4.89448565e-01],\n",
              "       [-2.56180461e-01,  1.03920861e+00],\n",
              "       [-9.29175484e-01,  4.15624689e-01],\n",
              "       [ 9.58694103e-01,  3.27840843e-01],\n",
              "       [-7.50714139e-01,  6.69824996e-01],\n",
              "       [ 8.25589778e-01, -5.47465517e-01],\n",
              "       [-7.78786036e-01,  4.94444046e-01]])"
            ]
          },
          "metadata": {},
          "execution_count": 6
        }
      ]
    },
    {
      "cell_type": "code",
      "source": [
        "y"
      ],
      "metadata": {
        "colab": {
          "base_uri": "https://localhost:8080/"
        },
        "id": "zOLueC3S_OOV",
        "outputId": "9a72f412-493f-499e-874d-7efc1286783f"
      },
      "execution_count": 7,
      "outputs": [
        {
          "output_type": "execute_result",
          "data": {
            "text/plain": [
              "array([1, 0, 0, 0, 0, 1, 1, 1, 0, 0, 1, 1, 1, 1, 0, 1, 1, 0, 1, 0, 1, 0,\n",
              "       0, 0, 1, 0, 0, 0, 0, 0, 1, 0, 1, 1, 0, 0, 0, 1, 1, 1, 0, 0, 0, 1,\n",
              "       1, 0, 1, 0, 1, 0, 1, 1, 1, 0, 1, 0, 1, 1, 1, 1, 1, 1, 0, 0, 1, 1,\n",
              "       1, 0, 1, 1, 0, 1, 0, 0, 1, 0, 0, 1, 0, 0, 0, 0, 1, 1, 1, 0, 1, 0,\n",
              "       1, 1, 0, 0, 0, 0, 0, 1, 0, 0, 1, 0, 0, 0, 1, 1, 0, 0, 0, 1, 0, 1,\n",
              "       0, 1, 1, 1, 1, 0, 0, 0, 0, 0, 1, 1, 1, 0, 0, 1, 1, 0, 0, 0, 1, 1,\n",
              "       0, 1, 1, 0, 1, 0, 0, 0, 1, 1, 1, 0, 1, 1, 1, 1, 0, 1, 0, 0, 1, 0,\n",
              "       0, 1, 0, 1, 1, 0, 0, 1, 0, 0, 1, 1, 0, 1, 1, 0, 0, 0, 1, 1, 1, 1,\n",
              "       0, 1, 0, 0, 1, 0, 1, 0, 0, 0, 1, 1, 0, 0, 0, 0, 1, 1, 0, 1, 0, 1,\n",
              "       1, 1, 1, 0, 0, 0, 0, 1, 1, 1, 1, 1, 1, 1, 1, 0, 0, 0, 0, 0, 1, 1,\n",
              "       1, 1, 1, 1, 0, 1, 1, 0, 0, 1, 1, 1, 0, 0, 0, 0, 1, 0, 1, 1, 0, 1,\n",
              "       0, 1, 0, 0, 0, 0, 1, 0])"
            ]
          },
          "metadata": {},
          "execution_count": 7
        }
      ]
    },
    {
      "cell_type": "code",
      "source": [
        "plt.scatter(X[:,0], X[:,1], c=y, s=50)\n",
        "plt.show()"
      ],
      "metadata": {
        "colab": {
          "base_uri": "https://localhost:8080/",
          "height": 430
        },
        "id": "U-kFvg-Y_Ugr",
        "outputId": "55dc6a0f-f3d6-4d51-8c65-cea660365ca6"
      },
      "execution_count": 8,
      "outputs": [
        {
          "output_type": "display_data",
          "data": {
            "text/plain": [
              "<Figure size 640x480 with 1 Axes>"
            ],
            "image/png": "[encoded data removed]"
          },
          "metadata": {}
        }
      ]
    },
    {
      "cell_type": "code",
      "source": [
        "model = Sequential()\n",
        "model.add(Dense(10, activation = 'relu', input_dim=2))\n",
        "model.add(Dense(10, activation = 'relu'))\n",
        "model.add(Dense(10, activation = 'relu'))\n",
        "model.add(Dense(10, activation = 'relu'))\n",
        "model.add(Dense(10, activation = 'relu'))\n",
        "model.add(Dense(10, activation = 'relu'))\n",
        "model.add(Dense(10, activation = 'relu'))\n",
        "model.add(Dense(10, activation = 'relu'))\n",
        "model.add(Dense(10, activation = 'relu'))\n",
        "model.add(Dense(10, activation = 'relu'))\n",
        "model.add(Dense(10, activation = 'relu'))\n",
        "model.add(Dense(1, activation = 'sigmoid'))"
      ],
      "metadata": {
        "id": "QMr3_TNi_qsw"
      },
      "execution_count": 9,
      "outputs": []
    },
    {
      "cell_type": "code",
      "source": [
        "model.compile(loss = 'binary_crossentropy', optimizer = 'adam', metrics=['accuracy'])"
      ],
      "metadata": {
        "id": "3pT1hFc2AyGP"
      },
      "execution_count": 10,
      "outputs": []
    },
    {
      "cell_type": "code",
      "source": [
        "#model.get_weights()\n",
        "model.get_weights()[10]"
      ],
      "metadata": {
        "colab": {
          "base_uri": "https://localhost:8080/"
        },
        "id": "SA0i3FDVBCso",
        "outputId": "acc80cb4-94e5-4dfc-8b10-048eb1eff1fc"
      },
      "execution_count": 11,
      "outputs": [
        {
          "output_type": "execute_result",
          "data": {
            "text/plain": [
              "array([[-2.4016976e-02,  3.9850461e-01, -3.3642995e-01, -4.7794944e-01,\n",
              "        -4.3912402e-01, -3.7949538e-01, -2.5663331e-01,  2.7564430e-01,\n",
              "        -4.1962409e-01, -3.1722134e-01],\n",
              "       [ 3.9943844e-01, -3.0622864e-01, -3.2825297e-01,  4.1358334e-01,\n",
              "        -3.5691738e-01, -3.9711043e-01,  3.5776854e-02,  7.9531133e-02,\n",
              "        -4.8198581e-02, -3.0888844e-01],\n",
              "       [ 3.7893856e-01,  8.2068324e-02, -4.7748807e-01,  6.6713870e-02,\n",
              "         2.8539646e-01,  5.2878177e-01, -3.5779727e-01,  9.4987452e-02,\n",
              "         1.3782960e-01,  4.8260295e-01],\n",
              "       [ 5.1846468e-01,  2.4916321e-01,  3.5199320e-01,  3.1486684e-01,\n",
              "         1.1315751e-01, -2.4888986e-01,  4.9422109e-01,  4.1235870e-01,\n",
              "         4.5415783e-01,  4.0478885e-01],\n",
              "       [ 5.2776539e-01, -4.3181282e-01, -4.4797784e-01, -1.0264692e-01,\n",
              "        -2.3369578e-01, -2.4806601e-01,  3.3458269e-01,  2.3289448e-01,\n",
              "         4.3984133e-01, -8.3403081e-02],\n",
              "       [ 3.6900926e-01,  5.1584244e-01, -4.4958055e-02,  4.8669255e-01,\n",
              "         2.2938967e-02, -1.6314629e-01, -1.8228883e-01, -3.7063375e-01,\n",
              "        -3.9436078e-01,  1.7768180e-01],\n",
              "       [ 4.6312213e-02,  3.2008541e-01,  2.5314766e-01,  3.7361652e-01,\n",
              "        -4.4158506e-01, -4.8569441e-01, -4.9045813e-01,  3.4407532e-01,\n",
              "        -3.9177099e-01,  4.2515397e-02],\n",
              "       [ 3.1237489e-01,  2.0178014e-01, -1.4068112e-01,  5.3220046e-01,\n",
              "         1.7917156e-04,  4.1119558e-01, -3.6810702e-01,  8.4967732e-02,\n",
              "         2.7766645e-02, -3.3778739e-01],\n",
              "       [ 9.9838972e-03, -6.9623619e-02,  1.7055070e-01, -4.9827480e-01,\n",
              "         1.8274784e-01, -2.7792308e-01, -2.0711148e-01,  4.4685411e-01,\n",
              "        -4.6336713e-01, -6.3186198e-02],\n",
              "       [ 4.8692942e-01, -1.3110006e-01, -1.1222786e-01,  4.2374003e-01,\n",
              "        -5.4400581e-01, -1.8434963e-01,  3.8659948e-01, -2.0781654e-01,\n",
              "        -1.8319064e-01,  5.3464389e-01]], dtype=float32)"
            ]
          },
          "metadata": {},
          "execution_count": 11
        }
      ]
    },
    {
      "cell_type": "code",
      "source": [
        "old_weights = model.get_weights()[0]"
      ],
      "metadata": {
        "id": "ub7fq_mDBGOw"
      },
      "execution_count": 12,
      "outputs": []
    },
    {
      "cell_type": "code",
      "source": [
        "X_train, X_test, y_train, y_test = train_test_split(X,y, test_size = 0.20, random_state = 42)"
      ],
      "metadata": {
        "id": "vyRf2gRABXCF"
      },
      "execution_count": 13,
      "outputs": []
    },
    {
      "cell_type": "code",
      "source": [
        "model.fit(X_train, y_train, epochs = 100)"
      ],
      "metadata": {
        "colab": {
          "base_uri": "https://localhost:8080/"
        },
        "id": "NJlRjEYOBW91",
        "outputId": "0fb66117-6770-4b7b-cb46-15e4b4bb1ecc"
      },
      "execution_count": 14,
      "outputs": [
        {
          "output_type": "stream",
          "name": "stdout",
          "text": [
            "Epoch 1/100\n",
            "7/7 [==============================] - 8s 7ms/step - loss: 0.6933 - accuracy: 0.4900\n",
            "Epoch 2/100\n",
            "7/7 [==============================] - 0s 5ms/step - loss: 0.6928 - accuracy: 0.4900\n",
            "Epoch 3/100\n",
            "7/7 [==============================] - 0s 5ms/step - loss: 0.6921 - accuracy: 0.5100\n",
            "Epoch 4/100\n",
            "7/7 [==============================] - 0s 5ms/step - loss: 0.6906 - accuracy: 0.5550\n",
            "Epoch 5/100\n",
            "7/7 [==============================] - 0s 5ms/step - loss: 0.6881 - accuracy: 0.5350\n",
            "Epoch 6/100\n",
            "7/7 [==============================] - 0s 5ms/step - loss: 0.6838 - accuracy: 0.8400\n",
            "Epoch 7/100\n",
            "7/7 [==============================] - 0s 5ms/step - loss: 0.6753 - accuracy: 0.9100\n",
            "Epoch 8/100\n",
            "7/7 [==============================] - 0s 5ms/step - loss: 0.6617 - accuracy: 0.7400\n",
            "Epoch 9/100\n",
            "7/7 [==============================] - 0s 6ms/step - loss: 0.6369 - accuracy: 0.7900\n",
            "Epoch 10/100\n",
            "7/7 [==============================] - 0s 5ms/step - loss: 0.6068 - accuracy: 0.7650\n",
            "Epoch 11/100\n",
            "7/7 [==============================] - 0s 5ms/step - loss: 0.5655 - accuracy: 0.8500\n",
            "Epoch 12/100\n",
            "7/7 [==============================] - 0s 5ms/step - loss: 0.5351 - accuracy: 0.8550\n",
            "Epoch 13/100\n",
            "7/7 [==============================] - 0s 5ms/step - loss: 0.5183 - accuracy: 0.8750\n",
            "Epoch 14/100\n",
            "7/7 [==============================] - 0s 5ms/step - loss: 0.5031 - accuracy: 0.9050\n",
            "Epoch 15/100\n",
            "7/7 [==============================] - 0s 5ms/step - loss: 0.4860 - accuracy: 0.9100\n",
            "Epoch 16/100\n",
            "7/7 [==============================] - 0s 5ms/step - loss: 0.4689 - accuracy: 0.9150\n",
            "Epoch 17/100\n",
            "7/7 [==============================] - 0s 5ms/step - loss: 0.4480 - accuracy: 0.9250\n",
            "Epoch 18/100\n",
            "7/7 [==============================] - 0s 6ms/step - loss: 0.4290 - accuracy: 0.9300\n",
            "Epoch 19/100\n",
            "7/7 [==============================] - 0s 5ms/step - loss: 0.4029 - accuracy: 0.9300\n",
            "Epoch 20/100\n",
            "7/7 [==============================] - 0s 6ms/step - loss: 0.3753 - accuracy: 0.9300\n",
            "Epoch 21/100\n",
            "7/7 [==============================] - 0s 5ms/step - loss: 0.3492 - accuracy: 0.9450\n",
            "Epoch 22/100\n",
            "7/7 [==============================] - 0s 5ms/step - loss: 0.3263 - accuracy: 0.9500\n",
            "Epoch 23/100\n",
            "7/7 [==============================] - 0s 5ms/step - loss: 0.3066 - accuracy: 0.9650\n",
            "Epoch 24/100\n",
            "7/7 [==============================] - 0s 7ms/step - loss: 0.2861 - accuracy: 0.9700\n",
            "Epoch 25/100\n",
            "7/7 [==============================] - 0s 5ms/step - loss: 0.2679 - accuracy: 0.9750\n",
            "Epoch 26/100\n",
            "7/7 [==============================] - 0s 5ms/step - loss: 0.2507 - accuracy: 0.9750\n",
            "Epoch 27/100\n",
            "7/7 [==============================] - 0s 5ms/step - loss: 0.2353 - accuracy: 0.9750\n",
            "Epoch 28/100\n",
            "7/7 [==============================] - 0s 5ms/step - loss: 0.2169 - accuracy: 0.9800\n",
            "Epoch 29/100\n",
            "7/7 [==============================] - 0s 5ms/step - loss: 0.1981 - accuracy: 0.9950\n",
            "Epoch 30/100\n",
            "7/7 [==============================] - 0s 6ms/step - loss: 0.1818 - accuracy: 1.0000\n",
            "Epoch 31/100\n",
            "7/7 [==============================] - 0s 6ms/step - loss: 0.1648 - accuracy: 1.0000\n",
            "Epoch 32/100\n",
            "7/7 [==============================] - 0s 5ms/step - loss: 0.1472 - accuracy: 1.0000\n",
            "Epoch 33/100\n",
            "7/7 [==============================] - 0s 5ms/step - loss: 0.1314 - accuracy: 1.0000\n",
            "Epoch 34/100\n",
            "7/7 [==============================] - 0s 6ms/step - loss: 0.1155 - accuracy: 1.0000\n",
            "Epoch 35/100\n",
            "7/7 [==============================] - 0s 5ms/step - loss: 0.1005 - accuracy: 1.0000\n",
            "Epoch 36/100\n",
            "7/7 [==============================] - 0s 5ms/step - loss: 0.0867 - accuracy: 1.0000\n",
            "Epoch 37/100\n",
            "7/7 [==============================] - 0s 5ms/step - loss: 0.0743 - accuracy: 1.0000\n",
            "Epoch 38/100\n",
            "7/7 [==============================] - 0s 5ms/step - loss: 0.0638 - accuracy: 1.0000\n",
            "Epoch 39/100\n",
            "7/7 [==============================] - 0s 5ms/step - loss: 0.0539 - accuracy: 1.0000\n",
            "Epoch 40/100\n",
            "7/7 [==============================] - 0s 6ms/step - loss: 0.0460 - accuracy: 1.0000\n",
            "Epoch 41/100\n",
            "7/7 [==============================] - 0s 6ms/step - loss: 0.0386 - accuracy: 1.0000\n",
            "Epoch 42/100\n",
            "7/7 [==============================] - 0s 6ms/step - loss: 0.0325 - accuracy: 1.0000\n",
            "Epoch 43/100\n",
            "7/7 [==============================] - 0s 7ms/step - loss: 0.0272 - accuracy: 1.0000\n",
            "Epoch 44/100\n",
            "7/7 [==============================] - 0s 5ms/step - loss: 0.0224 - accuracy: 1.0000\n",
            "Epoch 45/100\n",
            "7/7 [==============================] - 0s 5ms/step - loss: 0.0183 - accuracy: 1.0000\n",
            "Epoch 46/100\n",
            "7/7 [==============================] - 0s 5ms/step - loss: 0.0152 - accuracy: 1.0000\n",
            "Epoch 47/100\n",
            "7/7 [==============================] - 0s 5ms/step - loss: 0.0125 - accuracy: 1.0000\n",
            "Epoch 48/100\n",
            "7/7 [==============================] - 0s 5ms/step - loss: 0.0104 - accuracy: 1.0000\n",
            "Epoch 49/100\n",
            "7/7 [==============================] - 0s 6ms/step - loss: 0.0085 - accuracy: 1.0000\n",
            "Epoch 50/100\n",
            "7/7 [==============================] - 0s 5ms/step - loss: 0.0070 - accuracy: 1.0000\n",
            "Epoch 51/100\n",
            "7/7 [==============================] - 0s 5ms/step - loss: 0.0057 - accuracy: 1.0000\n",
            "Epoch 52/100\n",
            "7/7 [==============================] - 0s 5ms/step - loss: 0.0046 - accuracy: 1.0000\n",
            "Epoch 53/100\n",
            "7/7 [==============================] - 0s 5ms/step - loss: 0.0038 - accuracy: 1.0000\n",
            "Epoch 54/100\n",
            "7/7 [==============================] - 0s 5ms/step - loss: 0.0031 - accuracy: 1.0000\n",
            "Epoch 55/100\n",
            "7/7 [==============================] - 0s 5ms/step - loss: 0.0026 - accuracy: 1.0000\n",
            "Epoch 56/100\n",
            "7/7 [==============================] - 0s 6ms/step - loss: 0.0021 - accuracy: 1.0000\n",
            "Epoch 57/100\n",
            "7/7 [==============================] - 0s 5ms/step - loss: 0.0019 - accuracy: 1.0000\n",
            "Epoch 58/100\n",
            "7/7 [==============================] - 0s 7ms/step - loss: 0.0015 - accuracy: 1.0000\n",
            "Epoch 59/100\n",
            "7/7 [==============================] - 0s 6ms/step - loss: 0.0013 - accuracy: 1.0000\n",
            "Epoch 60/100\n",
            "7/7 [==============================] - 0s 5ms/step - loss: 0.0012 - accuracy: 1.0000\n",
            "Epoch 61/100\n",
            "7/7 [==============================] - 0s 5ms/step - loss: 9.9523e-04 - accuracy: 1.0000\n",
            "Epoch 62/100\n",
            "7/7 [==============================] - 0s 5ms/step - loss: 8.7187e-04 - accuracy: 1.0000\n",
            "Epoch 63/100\n",
            "7/7 [==============================] - 0s 5ms/step - loss: 7.6547e-04 - accuracy: 1.0000\n",
            "Epoch 64/100\n",
            "7/7 [==============================] - 0s 5ms/step - loss: 6.8624e-04 - accuracy: 1.0000\n",
            "Epoch 65/100\n",
            "7/7 [==============================] - 0s 6ms/step - loss: 6.1780e-04 - accuracy: 1.0000\n",
            "Epoch 66/100\n",
            "7/7 [==============================] - 0s 7ms/step - loss: 5.5446e-04 - accuracy: 1.0000\n",
            "Epoch 67/100\n",
            "7/7 [==============================] - 0s 5ms/step - loss: 5.0182e-04 - accuracy: 1.0000\n",
            "Epoch 68/100\n",
            "7/7 [==============================] - 0s 5ms/step - loss: 4.5417e-04 - accuracy: 1.0000\n",
            "Epoch 69/100\n",
            "7/7 [==============================] - 0s 5ms/step - loss: 4.1118e-04 - accuracy: 1.0000\n",
            "Epoch 70/100\n",
            "7/7 [==============================] - 0s 5ms/step - loss: 3.7469e-04 - accuracy: 1.0000\n",
            "Epoch 71/100\n",
            "7/7 [==============================] - 0s 5ms/step - loss: 3.4361e-04 - accuracy: 1.0000\n",
            "Epoch 72/100\n",
            "7/7 [==============================] - 0s 5ms/step - loss: 3.1507e-04 - accuracy: 1.0000\n",
            "Epoch 73/100\n",
            "7/7 [==============================] - 0s 5ms/step - loss: 2.9014e-04 - accuracy: 1.0000\n",
            "Epoch 74/100\n",
            "7/7 [==============================] - 0s 5ms/step - loss: 2.6730e-04 - accuracy: 1.0000\n",
            "Epoch 75/100\n",
            "7/7 [==============================] - 0s 6ms/step - loss: 2.4723e-04 - accuracy: 1.0000\n",
            "Epoch 76/100\n",
            "7/7 [==============================] - 0s 5ms/step - loss: 2.3276e-04 - accuracy: 1.0000\n",
            "Epoch 77/100\n",
            "7/7 [==============================] - 0s 5ms/step - loss: 2.1612e-04 - accuracy: 1.0000\n",
            "Epoch 78/100\n",
            "7/7 [==============================] - 0s 6ms/step - loss: 2.0079e-04 - accuracy: 1.0000\n",
            "Epoch 79/100\n",
            "7/7 [==============================] - 0s 5ms/step - loss: 1.8686e-04 - accuracy: 1.0000\n",
            "Epoch 80/100\n",
            "7/7 [==============================] - 0s 5ms/step - loss: 1.7511e-04 - accuracy: 1.0000\n",
            "Epoch 81/100\n",
            "7/7 [==============================] - 0s 5ms/step - loss: 1.6384e-04 - accuracy: 1.0000\n",
            "Epoch 82/100\n",
            "7/7 [==============================] - 0s 5ms/step - loss: 1.5413e-04 - accuracy: 1.0000\n",
            "Epoch 83/100\n",
            "7/7 [==============================] - 0s 5ms/step - loss: 1.4537e-04 - accuracy: 1.0000\n",
            "Epoch 84/100\n",
            "7/7 [==============================] - 0s 6ms/step - loss: 1.3721e-04 - accuracy: 1.0000\n",
            "Epoch 85/100\n",
            "7/7 [==============================] - 0s 6ms/step - loss: 1.3009e-04 - accuracy: 1.0000\n",
            "Epoch 86/100\n",
            "7/7 [==============================] - 0s 6ms/step - loss: 1.2323e-04 - accuracy: 1.0000\n",
            "Epoch 87/100\n",
            "7/7 [==============================] - 0s 6ms/step - loss: 1.1685e-04 - accuracy: 1.0000\n",
            "Epoch 88/100\n",
            "7/7 [==============================] - 0s 13ms/step - loss: 1.1105e-04 - accuracy: 1.0000\n",
            "Epoch 89/100\n",
            "7/7 [==============================] - 0s 13ms/step - loss: 1.0541e-04 - accuracy: 1.0000\n",
            "Epoch 90/100\n",
            "7/7 [==============================] - 0s 12ms/step - loss: 1.0042e-04 - accuracy: 1.0000\n",
            "Epoch 91/100\n",
            "7/7 [==============================] - 0s 11ms/step - loss: 9.5774e-05 - accuracy: 1.0000\n",
            "Epoch 92/100\n",
            "7/7 [==============================] - 0s 9ms/step - loss: 9.1104e-05 - accuracy: 1.0000\n",
            "Epoch 93/100\n",
            "7/7 [==============================] - 0s 8ms/step - loss: 8.6903e-05 - accuracy: 1.0000\n",
            "Epoch 94/100\n",
            "7/7 [==============================] - 0s 6ms/step - loss: 8.2947e-05 - accuracy: 1.0000\n",
            "Epoch 95/100\n",
            "7/7 [==============================] - 0s 6ms/step - loss: 7.9327e-05 - accuracy: 1.0000\n",
            "Epoch 96/100\n",
            "7/7 [==============================] - 0s 5ms/step - loss: 7.5977e-05 - accuracy: 1.0000\n",
            "Epoch 97/100\n",
            "7/7 [==============================] - 0s 5ms/step - loss: 7.2930e-05 - accuracy: 1.0000\n",
            "Epoch 98/100\n",
            "7/7 [==============================] - 0s 6ms/step - loss: 6.9787e-05 - accuracy: 1.0000\n",
            "Epoch 99/100\n",
            "7/7 [==============================] - 0s 6ms/step - loss: 6.6972e-05 - accuracy: 1.0000\n",
            "Epoch 100/100\n",
            "7/7 [==============================] - 0s 6ms/step - loss: 6.4397e-05 - accuracy: 1.0000\n"
          ]
        },
        {
          "output_type": "execute_result",
          "data": {
            "text/plain": [
              "<keras.src.callbacks.History at 0x7f5d10f7c6a0>"
            ]
          },
          "metadata": {},
          "execution_count": 14
        }
      ]
    },
    {
      "cell_type": "code",
      "source": [
        "new_weight = model.get_weights()[0]"
      ],
      "metadata": {
        "id": "uL6-tfpWBW7f"
      },
      "execution_count": 15,
      "outputs": []
    },
    {
      "cell_type": "code",
      "source": [
        "old_weights"
      ],
      "metadata": {
        "colab": {
          "base_uri": "https://localhost:8080/"
        },
        "id": "3AHxdRWoBW5B",
        "outputId": "80cb7dbd-31ae-4a3b-f676-f35bb613562e"
      },
      "execution_count": 16,
      "outputs": [
        {
          "output_type": "execute_result",
          "data": {
            "text/plain": [
              "array([[-0.27830136,  0.293644  , -0.35202953, -0.5930655 , -0.37439096,\n",
              "        -0.2905344 , -0.5402818 ,  0.6574171 ,  0.40745634,  0.02116191],\n",
              "       [ 0.38501316, -0.5987744 , -0.41004196,  0.614544  , -0.38872695,\n",
              "        -0.28182587,  0.24128258, -0.6693063 ,  0.25722474, -0.26417544]],\n",
              "      dtype=float32)"
            ]
          },
          "metadata": {},
          "execution_count": 16
        }
      ]
    },
    {
      "cell_type": "code",
      "source": [
        "new_weight"
      ],
      "metadata": {
        "colab": {
          "base_uri": "https://localhost:8080/"
        },
        "id": "aaN6LHL7BW2t",
        "outputId": "37d92d83-2507-4624-ea47-ea37df292473"
      },
      "execution_count": 17,
      "outputs": [
        {
          "output_type": "execute_result",
          "data": {
            "text/plain": [
              "array([[-0.10631033,  0.33734158, -0.36815062, -0.5299485 , -0.33453354,\n",
              "        -0.31366396, -0.59732336,  0.7392322 ,  0.621282  ,  0.01823531],\n",
              "       [ 0.43212268, -0.78864735, -0.38739938,  0.5533273 , -0.41775003,\n",
              "        -0.23643273,  0.35504937, -0.7870939 ,  0.18044406, -0.35744298]],\n",
              "      dtype=float32)"
            ]
          },
          "metadata": {},
          "execution_count": 17
        }
      ]
    },
    {
      "cell_type": "code",
      "source": [
        "percent_change = abs(100*(old_weights - new_weight)/ old_weights)"
      ],
      "metadata": {
        "id": "YrtuIqtEBW0O"
      },
      "execution_count": 18,
      "outputs": []
    },
    {
      "cell_type": "code",
      "source": [
        "percent_change"
      ],
      "metadata": {
        "colab": {
          "base_uri": "https://localhost:8080/"
        },
        "id": "0A9fdOPJBWv2",
        "outputId": "8fdc8ef2-70ea-473b-87f3-1a65f2df5ae9"
      },
      "execution_count": 19,
      "outputs": [
        {
          "output_type": "execute_result",
          "data": {
            "text/plain": [
              "array([[61.80028  , 14.881137 ,  4.5794706, 10.642506 , 10.645934 ,\n",
              "         7.9610376, 10.557748 , 12.444924 , 52.478172 , 13.829593 ],\n",
              "       [12.235819 , 31.71027  ,  5.5220165,  9.961313 ,  7.4661865,\n",
              "        16.106804 , 47.15085  , 17.598461 , 29.849648 , 35.305145 ]],\n",
              "      dtype=float32)"
            ]
          },
          "metadata": {},
          "execution_count": 19
        }
      ]
    },
    {
      "cell_type": "code",
      "source": [
        "from mlxtend.plotting import plot_decision_regions\n",
        "plot_decision_regions(X_train, y_train.astype('int'), clf=model, legend =2)"
      ],
      "metadata": {
        "colab": {
          "base_uri": "https://localhost:8080/",
          "height": 466
        },
        "id": "OPj2VzLABWs-",
        "outputId": "5f5fbab3-da4c-4b16-aa41-cf853008a018"
      },
      "execution_count": 20,
      "outputs": [
        {
          "output_type": "stream",
          "name": "stdout",
          "text": [
            "9600/9600 [==============================] - 19s 2ms/step\n"
          ]
        },
        {
          "output_type": "execute_result",
          "data": {
            "text/plain": [
              "<Axes: >"
            ]
          },
          "metadata": {},
          "execution_count": 20
        },
        {
          "output_type": "display_data",
          "data": {
            "text/plain": [
              "<Figure size 640x480 with 1 Axes>"
            ],
            "image/png": "[encoded data removed]"
          },
          "metadata": {}
        }
      ]
    },
    {
      "cell_type": "code",
      "source": [],
      "metadata": {
        "id": "BRVHNUalBWqf"
      },
      "execution_count": null,
      "outputs": []
    },
    {
      "cell_type": "code",
      "source": [],
      "metadata": {
        "id": "x8yP0jnkBWoH"
      },
      "execution_count": null,
      "outputs": []
    },
    {
      "cell_type": "code",
      "source": [],
      "metadata": {
        "id": "JM0dLGVbBWln"
      },
      "execution_count": null,
      "outputs": []
    },
    {
      "cell_type": "code",
      "source": [],
      "metadata": {
        "id": "C4o0oO8nBWjI"
      },
      "execution_count": null,
      "outputs": []
    },
    {
      "cell_type": "code",
      "source": [],
      "metadata": {
        "id": "JnjC4eUABWgv"
      },
      "execution_count": null,
      "outputs": []
    },
    {
      "cell_type": "code",
      "source": [],
      "metadata": {
        "id": "cwSaeCe4BWeY"
      },
      "execution_count": null,
      "outputs": []
    },
    {
      "cell_type": "code",
      "source": [],
      "metadata": {
        "id": "mp-gmBA2BWb5"
      },
      "execution_count": null,
      "outputs": []
    },
    {
      "cell_type": "code",
      "source": [],
      "metadata": {
        "id": "NHMfayC4BWZh"
      },
      "execution_count": null,
      "outputs": []
    },
    {
      "cell_type": "code",
      "source": [],
      "metadata": {
        "id": "kn7yjWc0BWW6"
      },
      "execution_count": null,
      "outputs": []
    },
    {
      "cell_type": "code",
      "source": [],
      "metadata": {
        "id": "BJbtNGbCBWSK"
      },
      "execution_count": null,
      "outputs": []
    },
    {
      "cell_type": "code",
      "source": [],
      "metadata": {
        "id": "NCKDuR2ABWPg"
      },
      "execution_count": null,
      "outputs": []
    },
    {
      "cell_type": "code",
      "source": [],
      "metadata": {
        "id": "NP7GHurtBWNj"
      },
      "execution_count": null,
      "outputs": []
    },
    {
      "cell_type": "code",
      "source": [],
      "metadata": {
        "id": "ZlCAWw9XBWLW"
      },
      "execution_count": null,
      "outputs": []
    },
    {
      "cell_type": "code",
      "source": [],
      "metadata": {
        "id": "i9RLmmxFBWJD"
      },
      "execution_count": null,
      "outputs": []
    },
    {
      "cell_type": "code",
      "source": [],
      "metadata": {
        "id": "Y1xG1ZuABWG7"
      },
      "execution_count": null,
      "outputs": []
    },
    {
      "cell_type": "code",
      "source": [],
      "metadata": {
        "id": "aOMQt-PoBWEo"
      },
      "execution_count": null,
      "outputs": []
    },
    {
      "cell_type": "code",
      "source": [],
      "metadata": {
        "id": "wnkJM1QGBWCU"
      },
      "execution_count": null,
      "outputs": []
    },
    {
      "cell_type": "code",
      "source": [],
      "metadata": {
        "id": "ZNzUJloNBWAZ"
      },
      "execution_count": null,
      "outputs": []
    },
    {
      "cell_type": "code",
      "source": [],
      "metadata": {
        "id": "cMCy70YsBV9l"
      },
      "execution_count": null,
      "outputs": []
    },
    {
      "cell_type": "code",
      "source": [],
      "metadata": {
        "id": "8pQDd7mcBVy1"
      },
      "execution_count": null,
      "outputs": []
    }
  ]
}